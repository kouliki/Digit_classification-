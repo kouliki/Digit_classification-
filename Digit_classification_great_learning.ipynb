{
  "nbformat": 4,
  "nbformat_minor": 0,
  "metadata": {
    "colab": {
      "provenance": [],
      "authorship_tag": "ABX9TyOE7PAaU7UIG6i3o85rc6+B",
      "include_colab_link": true
    },
    "kernelspec": {
      "name": "python3",
      "display_name": "Python 3"
    },
    "language_info": {
      "name": "python"
    }
  },
  "cells": [
    {
      "cell_type": "markdown",
      "metadata": {
        "id": "view-in-github",
        "colab_type": "text"
      },
      "source": [
        "<a href=\"https://colab.research.google.com/github/kouliki/Digit_classification-/blob/main/Digit_classification_great_learning.ipynb\" target=\"_parent\"><img src=\"https://colab.research.google.com/assets/colab-badge.svg\" alt=\"Open In Colab\"/></a>"
      ]
    },
    {
      "cell_type": "markdown",
      "source": [
        "### **Handwritten** digits will be recognised using Deep Learning Models using MNIST Dataset."
      ],
      "metadata": {
        "id": "TUPcxRSTNlSC"
      }
    },
    {
      "cell_type": "code",
      "execution_count": null,
      "metadata": {
        "id": "fIqvsNcTNQ30"
      },
      "outputs": [],
      "source": [
        "import tensorflow as tf\n",
        "from tensorflow import keras\n",
        "import matplotlib.pyplot as plt"
      ]
    },
    {
      "cell_type": "code",
      "source": [
        "\n",
        "# split train and test dataset\n",
        "mnist=tf.keras.datasets.mnist\n",
        "(x_train,y_train),(x_test,y_test)=mnist.load_data()\n",
        "x_train,x_test=x_train/255.0,x_test/255.0"
      ],
      "metadata": {
        "id": "QFASeXjqQnjl"
      },
      "execution_count": 3,
      "outputs": []
    },
    {
      "cell_type": "markdown",
      "source": [
        "### Step 2: Build the model , choose an optimizer and the loss function :**bold text**"
      ],
      "metadata": {
        "id": "QbniAbxoRhVT"
      }
    },
    {
      "cell_type": "code",
      "source": [
        "model=tf.keras.models.Sequential([   # sequential model contains layers hidden layers\n",
        "    tf.keras.layers.Flatten(input_shape=(28,28)),\n",
        "    tf.keras.layers.Dense(120,activation='relu'),  ## relu function\n",
        "    tf.keras.layers.Dropout(0.2),\n",
        "    tf.keras.layers.Dense(10)\n",
        "])"
      ],
      "metadata": {
        "id": "hX6CgQwhQnnw"
      },
      "execution_count": 4,
      "outputs": []
    },
    {
      "cell_type": "markdown",
      "source": [
        "### Step 3 : Take a look at what the model is doing in terms of outputs- vectors\n",
        "\n",
        "\n"
      ],
      "metadata": {
        "id": "pqjd_QetVPrI"
      }
    },
    {
      "cell_type": "code",
      "source": [
        "predictions=model(x_train[:1]).numpy()\n",
        "predictions\n",
        "\n",
        "# here the output is in array which means this contains vectors."
      ],
      "metadata": {
        "colab": {
          "base_uri": "https://localhost:8080/"
        },
        "id": "bUsc6oPXURsI",
        "outputId": "b0890a98-025a-4f50-ca62-a2f795ad7c62"
      },
      "execution_count": 5,
      "outputs": [
        {
          "output_type": "execute_result",
          "data": {
            "text/plain": [
              "array([[ 0.2755257 ,  0.5063408 ,  0.02712972, -0.32560167,  0.04326917,\n",
              "         0.08815043,  0.4109841 , -0.01908763, -0.20611954,  1.2029383 ]],\n",
              "      dtype=float32)"
            ]
          },
          "metadata": {},
          "execution_count": 5
        }
      ]
    },
    {
      "cell_type": "markdown",
      "source": [
        "We need the probability of each class instead of the vectors"
      ],
      "metadata": {
        "id": "26Vhu82UWC2s"
      }
    },
    {
      "cell_type": "code",
      "source": [
        "tf.nn.softmax(predictions).numpy()"
      ],
      "metadata": {
        "colab": {
          "base_uri": "https://localhost:8080/"
        },
        "id": "9Ku4qp7aQnre",
        "outputId": "71d6af5f-1cbb-4e5c-84db-4a265f1bfea7"
      },
      "execution_count": 6,
      "outputs": [
        {
          "output_type": "execute_result",
          "data": {
            "text/plain": [
              "array([[0.09760523, 0.12294612, 0.07613706, 0.05350653, 0.07737584,\n",
              "        0.08092767, 0.11176401, 0.07269828, 0.06029721, 0.24674211]],\n",
              "      dtype=float32)"
            ]
          },
          "metadata": {},
          "execution_count": 6
        }
      ]
    },
    {
      "cell_type": "markdown",
      "source": [
        "### Loss fnction- how much erros are made by neural network  through loss values"
      ],
      "metadata": {
        "id": "RLdPwNOQYA1G"
      }
    },
    {
      "cell_type": "code",
      "source": [
        "loss_fn=tf.keras.losses.SparseCategoricalCrossentropy(from_logits=True)"
      ],
      "metadata": {
        "id": "1kqkUQv6X_mE"
      },
      "execution_count": 7,
      "outputs": []
    },
    {
      "cell_type": "code",
      "source": [
        "loss_fn(y_train[:1],predictions).numpy()"
      ],
      "metadata": {
        "colab": {
          "base_uri": "https://localhost:8080/"
        },
        "id": "KRGGEA6kX_oc",
        "outputId": "535e3865-ee55-416e-c360-b09abd7914b8"
      },
      "execution_count": 8,
      "outputs": [
        {
          "output_type": "execute_result",
          "data": {
            "text/plain": [
              "2.5141995"
            ]
          },
          "metadata": {},
          "execution_count": 8
        }
      ]
    },
    {
      "cell_type": "markdown",
      "source": [
        "### **Model Compilation**"
      ],
      "metadata": {
        "id": "CWp3coGne-Wk"
      }
    },
    {
      "cell_type": "code",
      "source": [
        "model.compile(optimizer='adam',\n",
        "              loss= loss_fn,\n",
        "              metrics=['accuracy'])"
      ],
      "metadata": {
        "id": "qZXYzMhffBjy"
      },
      "execution_count": 9,
      "outputs": []
    },
    {
      "cell_type": "markdown",
      "source": [
        "### **Model fitting**"
      ],
      "metadata": {
        "id": "H_49ZmqlfQDH"
      }
    },
    {
      "cell_type": "code",
      "source": [
        "model.fit(x_train,y_train,epochs=5)  ## more epochs more accuracy\n",
        "\n",
        "# look the loss and accuracy"
      ],
      "metadata": {
        "colab": {
          "base_uri": "https://localhost:8080/"
        },
        "id": "hLk8aoSmX_r_",
        "outputId": "667a3251-e720-4acc-996e-ffdeea92ac81"
      },
      "execution_count": 10,
      "outputs": [
        {
          "output_type": "stream",
          "name": "stdout",
          "text": [
            "Epoch 1/5\n",
            "1875/1875 [==============================] - 7s 3ms/step - loss: 0.3039 - accuracy: 0.9110\n",
            "Epoch 2/5\n",
            "1875/1875 [==============================] - 7s 4ms/step - loss: 0.1491 - accuracy: 0.9555\n",
            "Epoch 3/5\n",
            "1875/1875 [==============================] - 6s 3ms/step - loss: 0.1138 - accuracy: 0.9657\n",
            "Epoch 4/5\n",
            "1875/1875 [==============================] - 7s 4ms/step - loss: 0.0934 - accuracy: 0.9714\n",
            "Epoch 5/5\n",
            "1875/1875 [==============================] - 6s 3ms/step - loss: 0.0797 - accuracy: 0.9754\n"
          ]
        },
        {
          "output_type": "execute_result",
          "data": {
            "text/plain": [
              "<keras.src.callbacks.History at 0x7a1e2afe4be0>"
            ]
          },
          "metadata": {},
          "execution_count": 10
        }
      ]
    },
    {
      "cell_type": "markdown",
      "source": [
        "### Model Evaluation"
      ],
      "metadata": {
        "id": "5cgM9v8cfo8j"
      }
    },
    {
      "cell_type": "code",
      "source": [
        "model.evaluate(x_test,y_test,verbose=2)\n",
        "\n",
        "## accuracy = 97%"
      ],
      "metadata": {
        "colab": {
          "base_uri": "https://localhost:8080/"
        },
        "id": "BgCnqU5RQnys",
        "outputId": "05f60709-8fc1-4a74-8e87-1ecc8ee3450b"
      },
      "execution_count": 11,
      "outputs": [
        {
          "output_type": "stream",
          "name": "stdout",
          "text": [
            "313/313 - 1s - loss: 0.0742 - accuracy: 0.9769 - 600ms/epoch - 2ms/step\n"
          ]
        },
        {
          "output_type": "execute_result",
          "data": {
            "text/plain": [
              "[0.07421279698610306, 0.9768999814987183]"
            ]
          },
          "metadata": {},
          "execution_count": 11
        }
      ]
    }
  ]
}